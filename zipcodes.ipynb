{
 "cells": [
  {
   "cell_type": "markdown",
   "metadata": {},
   "source": [
    "## Get the Toronto postal codes and associated neighborhood information. \n",
    "\n",
    "This will download the Toronto postal code information from Wikipedia. The data scraping is performed by beautifulsoup from the bs4 library. The data is then put into a data frame, and cleaned up. "
   ]
  },
  {
   "cell_type": "code",
   "execution_count": 2,
   "metadata": {},
   "outputs": [],
   "source": [
    "# import the necessary libraries \n",
    "import numpy as np \n",
    "import pandas as pd \n",
    "from bs4 import BeautifulSoup\n",
    "import requests"
   ]
  },
  {
   "cell_type": "markdown",
   "metadata": {},
   "source": [
    "## Use parser to download the webpage. "
   ]
  },
  {
   "cell_type": "code",
   "execution_count": 114,
   "metadata": {},
   "outputs": [],
   "source": [
    "url = \"https://en.wikipedia.org/wiki/List_of_postal_codes_of_Canada:_M\"\n",
    "\n",
    "response = requests.get(url)\n",
    "page_html = response.text\n",
    "soup = BeautifulSoup(page_html, 'html.parser')"
   ]
  },
  {
   "cell_type": "markdown",
   "metadata": {},
   "source": [
    "The table that we want uses the class \"wikitable sortable\" in the table tag. From there we need to get each row, which is specified with the tr tag. "
   ]
  },
  {
   "cell_type": "code",
   "execution_count": 116,
   "metadata": {
    "tags": []
   },
   "outputs": [],
   "source": [
    "table1 = soup.find(class_=\"wikitable sortable\").find(\"tbody\").find_all(\"tr\")\n"
   ]
  },
  {
   "cell_type": "markdown",
   "metadata": {},
   "source": [
    "This does the main cleanup of the data. It loops through each row in the table and puts the data in the right column of the data frame. First it looks for the td tags. The first row is empty, so it skips that one. It also checks to make sure that the Borough is not equal to \"Not assigned\". Those rows are skipped. If the neighborhood is listed as \"Not assigned\", then the neighborhood is assigned the value for borough. Finally it glues the values from the table into a data frame.  "
   ]
  },
  {
   "cell_type": "code",
   "execution_count": 107,
   "metadata": {
    "tags": []
   },
   "outputs": [],
   "source": [
    "# skip the first row of the table\n",
    "Borough = [] \n",
    "Neighborhood = []\n",
    "PostalCode = []\n",
    "for row in table1: \n",
    "    tmp1 = row.find_all(\"td\")\n",
    "    if tmp1 != [] and tmp1[1].get_text().strip() != \"Not assigned\": \n",
    "        PostalCode.append(tmp1[0].get_text().strip())\n",
    "        Borough.append(tmp1[1].get_text().strip())\n",
    "        if tmp1[2] == \"Not assigned\":\n",
    "            Neighborhood.append(tmp1[1].get_text().strip())\n",
    "        else: \n",
    "           Neighborhood.append(tmp1[2].get_text().strip())\n",
    "data = {'PostalCode' : PostalCode, 'Borough' : Borough, 'Neighborhood' : Neighborhood}\n",
    "df = pd.DataFrame(data, columns=['PostalCode', 'Borough', 'Neighborhood'])            \n",
    "\n",
    "\n"
   ]
  },
  {
   "cell_type": "markdown",
   "metadata": {},
   "source": [
    "Take a peek at the data to make sure that it looks generally as expected. "
   ]
  },
  {
   "cell_type": "code",
   "execution_count": 117,
   "metadata": {
    "tags": []
   },
   "outputs": [
    {
     "output_type": "stream",
     "name": "stdout",
     "text": "PostalCode           Borough                                 Neighborhood\n0        M3A        North York                                    Parkwoods\n1        M4A        North York                             Victoria Village\n2        M5A  Downtown Toronto                    Regent Park, Harbourfront\n3        M6A        North York             Lawrence Manor, Lawrence Heights\n4        M7A  Downtown Toronto  Queen's Park, Ontario Provincial Government\n"
    }
   ],
   "source": [
    "print(df.head())"
   ]
  },
  {
   "cell_type": "markdown",
   "metadata": {},
   "source": [
    "## Test the postal code \n",
    "\n",
    "Check the data frame to make sure that there is just one line per postal code. To do this, group it by postal code and then count the number of entries for each postal code. "
   ]
  },
  {
   "cell_type": "code",
   "execution_count": 112,
   "metadata": {},
   "outputs": [
    {
     "output_type": "execute_result",
     "data": {
      "text/plain": "1    103\ndtype: int64"
     },
     "metadata": {},
     "execution_count": 112
    }
   ],
   "source": [
    "df.groupby('PostalCode').size().value_counts()"
   ]
  },
  {
   "cell_type": "markdown",
   "metadata": {},
   "source": [
    "## Shape of the data frame\n",
    "\n",
    "Add the shape of the data frame to give us the number of rows and columns."
   ]
  },
  {
   "cell_type": "code",
   "execution_count": 64,
   "metadata": {},
   "outputs": [
    {
     "output_type": "execute_result",
     "data": {
      "text/plain": "(103, 3)"
     },
     "metadata": {},
     "execution_count": 64
    }
   ],
   "source": [
    "df.shape"
   ]
  }
 ],
 "metadata": {
  "language_info": {
   "codemirror_mode": {
    "name": "ipython",
    "version": 3
   },
   "file_extension": ".py",
   "mimetype": "text/x-python",
   "name": "python",
   "nbconvert_exporter": "python",
   "pygments_lexer": "ipython3",
   "version": "3.7.0-final"
  },
  "orig_nbformat": 2,
  "kernelspec": {
   "name": "python37064bit12bd8b03076f490aa33b2beeb2324d91",
   "display_name": "Python 3.7.0 64-bit"
  }
 },
 "nbformat": 4,
 "nbformat_minor": 2
}